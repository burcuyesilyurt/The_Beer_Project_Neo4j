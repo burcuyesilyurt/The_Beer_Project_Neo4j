{
 "cells": [
  {
   "cell_type": "markdown",
   "metadata": {},
   "source": [
    "# Big Data Modeling and Management Assigment - Homework 1"
   ]
  },
  {
   "cell_type": "markdown",
   "metadata": {},
   "source": [
    "## 🍺 The Beer project  🍺 \n",
    "\n",
    "Graph databases are a natural way of navigating distinct types of data. For this first project we will be taking a graph database to analyse beer and breweries!   \n",
    "\n",
    "_For reference the dataset used for this project has been extracted from [kaggle](https://www.kaggle.com/ehallmar/beers-breweries-and-beer-reviews), released by Evan Hallmark. Even though the author does not present metadata on the origin of the data it is probably a collection of open data from places like [beeradvocate](https://www.beeradvocate.com/)_.\n",
    "\n",
    "### Problem description\n",
    "\n",
    "Explore the database via python neo4j connector and/or the graphical tool in the NEO4J webpage. Answer the questions with python syntax. Submit the results by following the instructions.\n",
    "\n",
    "\n",
    "### Questions\n",
    "\n",
    "1. How many distinct countries exist in the database? [Hint: mind repetitions]\n",
    "1. Most reviews:  \n",
    "    1. Which `Beer` has the most reviews?  \n",
    "    1. Which `Brewery` has the most reviews for its beers? [Hint: 5-node path]\n",
    "    1. Which `Country` has the most reviews for its beers? [Hint: 5-node path]\n",
    "1. Who is/are the user/users that have the most shared reviews (reviews of the same beers) with the user CTJman?\n",
    "1. Which Portuguese brewery has the most beers?\n",
    "1. From those beers (the ones returned from the previous question), which has the most reviews?\n",
    "1. On average how many different beer styles does each brewery produce?\n",
    "1. Which brewery produces the strongest beers according to ABV? [Hint: database has NaN values]\n",
    "1. If I typically enjoy a beer due to its aroma and appearance, which beer style should I try? (Justify your answer) [Hint: database has NaN values]\n",
    "1. Using Graph Algorithms answer **one** of the following questions: [NB: make sure to clear the graph before using it again]\n",
    "    1. Which two countries are most similiar when it comes to their **top 10** most produced Beer styles?\n",
    "    2. Which beer is the most influential when considering the number of users who reviewed it? [Please use limit of 1000 on beer-review-user path]]\n",
    "    3. Users are connected together by their reviews of beers, taking into consideration the \"overall\" score they assign as a weight, how many communities are formed from these relationships? How many users are in the largest community? [Please use limit of 1000 on beer-review-user path]]\n",
    "1. Using Graph Algorithms answer **one** of the following questions:\n",
    "    1. Which beer has the most similar reviews as the beer `Super Bock Stout`? [Hint:inspect two subsets: with and without the beer in question]\n",
    "    2. Which user is the most influential when it comes to reviews made?\n",
    "1. If you had to pick 3 beers to recommend using only this database, which would you pick and why? (Justify your answer) [Hint: database has NaN values]\n",
    "\n",
    "\n",
    "Questions 8 to 10 are somewhat open, which means we'll also be evaluating the reasoning behind your answer. So there aren't necessarily bad results there are only wrong criteria, explanations, or execution. \n",
    " \n",
    "### Groups  \n",
    "\n",
    "Groups should have 4 to 5 people.\n",
    "You should register your group on **moodle**.\n",
    "\n",
    "### Submission      \n",
    "\n",
    "The code used to produce the results and respective explanations should be uploaded to moodle. They should have a clear reference to the group, either on the file name or on the document itself (please submit one Jupyter notebook per group).\n",
    "\n",
    "### Evaluation   \n",
    "\n",
    "This will be 20% of the final grade.   \n",
    "Each solution will be evaluated on 2 components: correctness of results and simplicity of the solution.  \n",
    "All code will go through plagiarism automated checks. Groups with the same code will undergo investigation."
   ]
  },
  {
   "cell_type": "markdown",
   "metadata": {},
   "source": [
    "## Loading the Database\n",
    "\n",
    "#### Be sure that you **don't have** the neo4j docker container from the classes running (you can Stop it in the desktop app or with the command \"`docker stop Neo4JLab`\")\n",
    "\n",
    "\n",
    "The default container does not have any data whatsoever, we will have to load a database into our docker image:\n",
    "- Download and unzip the `Neo4JHWData` file provided on Moodle (apr. 6 Gb).\n",
    "- Copy the path of the `Neo4JHWData` folder of the unziped file, e.g. `c:\\Users\\osavc\\Documents\\Nova_BDMM\\_2024\\Homework\\Neo4JHWData/data`.\n",
    "- Download and unzip the `Neo4JPlugins` file provided on Moodle (it is the same plugins as for the labs).\n",
    "- Copy the path of the `Neo4JPlugins` folder of the unziped file, e.g. `c:\\Users\\osavc\\Documents\\Nova_BDMM\\_2024\\Installations\\Neo4JPlugins`.\n",
    "- Change the code below to include your correct folder paths. Be sure that you have Docker running first:\n",
    "\n",
    "`docker run --name Neo4JHW -p 7474:7474 -p 7687:7687 -d -v \"C:\\Users\\osavc\\Documents\\Nova_BDMM\\_2024\\Installations\\Neo4JPlugins\":/plugins -v \"C:\\Users\\osavc\\Documents\\Nova_BDMM\\_2024\\HW1\\Neo4JHWData/data\":/data --env NEO4J_AUTH=neo4j/test --env NEO4J_dbms_connector_https_advertised__address=\"localhost:7473\" --env NEO4J_dbms_connector_http_advertised__address=\"localhost:7474\" --env NEO4J_dbms_connector_bolt_advertised__address=\"localhost:7687\" --env NEO4J_dbms_security_procedures_unrestricted=\"gds.*\" --env NEO4J_dbms_security_procedures_allowlist=\"gds.*\" neo4j:4.4.5`\n",
    "\n",
    "- Since Neo4j is trying to recognize a new database folder, this might take a bit  before you can view the data on Neo4j webpage (let's say 3 minutes)."
   ]
  },
  {
   "cell_type": "code",
   "execution_count": 1,
   "metadata": {
    "ExecuteTime": {
     "end_time": "2024-02-29T23:16:45.833322Z",
     "start_time": "2024-02-29T23:16:44.269293Z"
    }
   },
   "outputs": [],
   "source": [
    "from neo4j import GraphDatabase\n",
    "from pprint import pprint"
   ]
  },
  {
   "cell_type": "code",
   "execution_count": 2,
   "metadata": {
    "ExecuteTime": {
     "end_time": "2024-02-29T23:16:46.537995Z",
     "start_time": "2024-02-29T23:16:46.522761Z"
    }
   },
   "outputs": [],
   "source": [
    "NEO4J_URI=\"neo4j://localhost:7687\"\n",
    "NEO4J_USERNAME=\"neo4j\"\n",
    "NEO4J_PASSWORD=\"test\""
   ]
  },
  {
   "cell_type": "code",
   "execution_count": 3,
   "metadata": {
    "ExecuteTime": {
     "end_time": "2024-02-29T23:16:48.420923Z",
     "start_time": "2024-02-29T23:16:48.405549Z"
    }
   },
   "outputs": [],
   "source": [
    "driver = GraphDatabase.driver(NEO4J_URI, auth=(NEO4J_USERNAME, NEO4J_PASSWORD), )"
   ]
  },
  {
   "cell_type": "markdown",
   "metadata": {},
   "source": [
    "### All The Functions you'll need to run queries in Neo4J"
   ]
  },
  {
   "cell_type": "code",
   "execution_count": 4,
   "metadata": {
    "ExecuteTime": {
     "end_time": "2024-02-29T23:16:54.392239Z",
     "start_time": "2024-02-29T23:16:54.382827Z"
    }
   },
   "outputs": [],
   "source": [
    "def execute_read(driver, query):    \n",
    "    with driver.session(database=\"neo4j\") as session:\n",
    "        result = session.execute_read(lambda tx, query: list(tx.run(query)), query)\n",
    "    return result"
   ]
  },
  {
   "cell_type": "markdown",
   "metadata": {},
   "source": [
    "### Understanding the Database"
   ]
  },
  {
   "cell_type": "code",
   "execution_count": 5,
   "metadata": {
    "ExecuteTime": {
     "end_time": "2024-02-29T23:16:55.777843Z",
     "start_time": "2024-02-29T23:16:55.715097Z"
    }
   },
   "outputs": [
    {
     "name": "stdout",
     "output_type": "stream",
     "text": [
      "[<Record label='COUNTRIES'>,\n",
      " <Record label='CITIES'>,\n",
      " <Record label='BREWERIES'>,\n",
      " <Record label='BEERS'>,\n",
      " <Record label='REVIEWS'>,\n",
      " <Record label='STYLE'>,\n",
      " <Record label='USER'>]\n"
     ]
    }
   ],
   "source": [
    "query = \"\"\"\n",
    "        call db.labels();\n",
    "    \"\"\"\n",
    "\n",
    "result = execute_read(driver, query)\n",
    "\n",
    "pprint(result)"
   ]
  },
  {
   "cell_type": "code",
   "execution_count": 6,
   "metadata": {
    "ExecuteTime": {
     "end_time": "2024-02-29T23:16:56.966382Z",
     "start_time": "2024-02-29T23:16:56.937451Z"
    }
   },
   "outputs": [
    {
     "name": "stdout",
     "output_type": "stream",
     "text": [
      "[<Record relationshipType='REVIEWED'>,\n",
      " <Record relationshipType='BREWED'>,\n",
      " <Record relationshipType='IN'>,\n",
      " <Record relationshipType='HAS_STYLE'>,\n",
      " <Record relationshipType='POSTED'>]\n"
     ]
    }
   ],
   "source": [
    "query = \"\"\"\n",
    "        CALL db.relationshipTypes();\n",
    "    \"\"\"\n",
    "\n",
    "result = execute_read(driver, query)\n",
    "\n",
    "pprint(result)"
   ]
  },
  {
   "cell_type": "markdown",
   "metadata": {},
   "source": [
    "# Submission\n",
    "\n",
    "GROUP NUMBER:\n",
    "\n",
    "**XXXXXX**\n",
    "\n",
    "GROUP MEMBERS:\n",
    "\n",
    "|STUDENT NUMBER|STUDENT NAME|\n",
    "|---|---|\n",
    "|Burcu Yesilyurt|20230763|\n",
    "|David Gustavo Guarin Rojas|20230602|\n",
    "|Ilyass Jannah|20230598|\n"
   ]
  },
  {
   "cell_type": "markdown",
   "metadata": {},
   "source": [
    "#### 1. How many distinct countries exist in the database?"
   ]
  },
  {
   "cell_type": "code",
   "execution_count": 28,
   "metadata": {},
   "outputs": [
    {
     "name": "stdout",
     "output_type": "stream",
     "text": [
      "[<Record countries=200>]\n"
     ]
    }
   ],
   "source": [
    "query = \"\"\"\n",
    "        MATCH (c:COUNTRIES) \n",
    "        RETURN count(DISTINCT c.name) AS countries\n",
    "    \"\"\"\n",
    "\n",
    "result = execute_read(driver, query)\n",
    "\n",
    "pprint(result)"
   ]
  },
  {
   "cell_type": "markdown",
   "metadata": {},
   "source": [
    "#### 2. Most reviews:  \n",
    "    A) Which `Beer` has the most reviews?  \n",
    "    B) Which `Brewery` has the most reviews for its beers?\n",
    "    C) Which `Country` has the most reviews for its beers? "
   ]
  },
  {
   "cell_type": "code",
   "execution_count": 30,
   "metadata": {},
   "outputs": [
    {
     "name": "stdout",
     "output_type": "stream",
     "text": [
      "[<Record beer_name='IPA' number_of_reviews=31387>]\n"
     ]
    }
   ],
   "source": [
    "# 2.A) Get the number of relationships between beers and reviews then order the results by the number of reviews\n",
    "query = \"\"\"\n",
    "      MATCH (b:BEERS)-[:REVIEWED]->(r:REVIEWS)\n",
    "      RETURN b.name AS beer_name, count(r) AS number_of_reviews\n",
    "      ORDER BY number_of_reviews DESC\n",
    "      LIMIT 1\n",
    "    \"\"\"\n",
    "\n",
    "result = execute_read(driver, query)\n",
    "\n",
    "pprint(result)"
   ]
  },
  {
   "cell_type": "code",
   "execution_count": 31,
   "metadata": {},
   "outputs": [
    {
     "name": "stdout",
     "output_type": "stream",
     "text": [
      "[<Record brewery_name='Sierra Nevada Brewing Co.' review_count=175161>]\n"
     ]
    }
   ],
   "source": [
    "#2.B) Get the number of relationships between breweries and reviews then order the results by the number of reviews\n",
    "query = \"\"\"\n",
    "        MATCH(br:BREWERIES)-[:BREWED]->(b:BEERS)-[:REVIEWED]->(r:REVIEWS)\n",
    "        RETURN br.name AS brewery_name, COUNT(r) AS review_count\n",
    "        ORDER BY review_count DESC\n",
    "        LIMIT 1\n",
    "        \"\"\"\n",
    "\n",
    "result = execute_read(driver, query)\n",
    "\n",
    "pprint(result)"
   ]
  },
  {
   "cell_type": "code",
   "execution_count": 32,
   "metadata": {},
   "outputs": [
    {
     "name": "stdout",
     "output_type": "stream",
     "text": [
      "[<Record countries_index='US' review_count=7675804>]\n"
     ]
    }
   ],
   "source": [
    "#2.C) Get the number of relationships between countries and reviews passing by other nodes then order the results by the \n",
    "#number of reviews\n",
    "query = \"\"\"\n",
    "        MATCH (c:COUNTRIES)-[]-(:CITIES)-[:IN]-(:BREWERIES)-[:BREWED]->(b:BEERS)-[:REVIEWED]->(r:REVIEWS)\n",
    "        RETURN c.name AS countries_index, COUNT(r) AS review_count\n",
    "        ORDER BY review_count DESC\n",
    "        LIMIT 1\n",
    "        \"\"\"\n",
    "\n",
    "result = execute_read(driver, query)\n",
    "\n",
    "pprint(result)"
   ]
  },
  {
   "cell_type": "markdown",
   "metadata": {},
   "source": [
    "#### 3. Who is/are the user/users that have the most shared reviews (reviews of the same beers) with the user CTJman?"
   ]
  },
  {
   "cell_type": "code",
   "execution_count": 33,
   "metadata": {},
   "outputs": [
    {
     "name": "stdout",
     "output_type": "stream",
     "text": [
      "[<Record username='acurtis' review_count=1428>,\n",
      " <Record username='Texasfan549' review_count=1257>,\n",
      " <Record username='kjkinsey' review_count=1205>,\n",
      " <Record username='oline73' review_count=1191>,\n",
      " <Record username='chippo33' review_count=1161>]\n"
     ]
    }
   ],
   "source": [
    "query = \"\"\"\n",
    "    MATCH (u:USER)-[:POSTED]-(r:REVIEWS)-[:REVIEWED]-(b:BEERS)-[]-()-[]-(:USER{name:'CTJman'})\n",
    "    RETURN u.name AS username, count(r) AS review_count\n",
    "    ORDER BY review_count DESC\n",
    "    LIMIT 5\n",
    "\"\"\"\n",
    "result = execute_read(driver, query)\n",
    "\n",
    "pprint(result)"
   ]
  },
  {
   "cell_type": "markdown",
   "metadata": {},
   "source": [
    "#### 4. Which Portuguese brewery has the most beers?\n"
   ]
  },
  {
   "cell_type": "code",
   "execution_count": 34,
   "metadata": {},
   "outputs": [
    {
     "name": "stdout",
     "output_type": "stream",
     "text": [
      "[<Record brewery_name='Dois Corvos Cervejeira' beer_number=40>]\n"
     ]
    }
   ],
   "source": [
    "query = \"\"\"\n",
    "       MATCH (:COUNTRIES{name:'PT'})-[]-(:CITIES)-[:IN]-(br:BREWERIES)-[:BREWED]->(b:BEERS)\n",
    "       RETURN br.name AS brewery_name, COUNT(b) AS beer_number\n",
    "       ORDER BY beer_number DESC\n",
    "       LIMIT 1;\n",
    "        \"\"\"\n",
    "\n",
    "result = execute_read(driver, query)\n",
    "\n",
    "pprint(result)"
   ]
  },
  {
   "cell_type": "markdown",
   "metadata": {},
   "source": [
    "#### 5. From those beers (the ones produced in the brewery from the previous question), which has the most reviews?\n"
   ]
  },
  {
   "cell_type": "code",
   "execution_count": 35,
   "metadata": {},
   "outputs": [
    {
     "name": "stdout",
     "output_type": "stream",
     "text": [
      "[<Record beer_name='Finisterra' review_count=10>]\n"
     ]
    }
   ],
   "source": [
    "query = \"\"\"\n",
    "       MATCH (:BREWERIES{name:'Dois Corvos Cervejeira'})-[:BREWED]->(b:BEERS)-[:REVIEWED]->(r:REVIEWS)\n",
    "       RETURN b.name AS beer_name, COUNT(r) AS review_count\n",
    "       ORDER BY review_count DESC\n",
    "       LIMIT 1;\n",
    "        \"\"\"\n",
    "\n",
    "result = execute_read(driver, query)\n",
    "\n",
    "pprint(result)"
   ]
  },
  {
   "cell_type": "markdown",
   "metadata": {},
   "source": [
    "#### 6. On average how many different beer styles does each brewery produce?"
   ]
  },
  {
   "cell_type": "code",
   "execution_count": 36,
   "metadata": {},
   "outputs": [
    {
     "name": "stdout",
     "output_type": "stream",
     "text": [
      "[<Record average=10.595992516144538>]\n"
     ]
    }
   ],
   "source": [
    "query = \"\"\"\n",
    "      MATCH (br:BREWERIES)-[:BREWED]->(b:BEERS)-[:HAS_STYLE]->(s:STYLE)\n",
    "      WITH br, COUNT(DISTINCT s) AS stylesNum\n",
    "      RETURN AVG(stylesNum) AS average;\n",
    "       \"\"\"\n",
    "\n",
    "result = execute_read(driver, query)\n",
    "\n",
    "pprint(result)"
   ]
  },
  {
   "cell_type": "markdown",
   "metadata": {},
   "source": [
    "#### 7. Which brewery produces the strongest beers according to ABV?"
   ]
  },
  {
   "cell_type": "code",
   "execution_count": 38,
   "metadata": {},
   "outputs": [
    {
     "name": "stdout",
     "output_type": "stream",
     "text": [
      "[<Record brewery_name='New Belgium Brewing Company' beer_abv='9.99'>]\n"
     ]
    }
   ],
   "source": [
    "query = \"\"\"\n",
    "       // Relationship between the breweries and their beers\n",
    "       MATCH (br:BREWERIES)-[:BREWED]->(b:BEERS)\n",
    "       // Condition so that the abv is an actual number so we can compare\n",
    "       WHERE b.abv IS NOT NULL AND b.abv <> 'nan'\n",
    "       RETURN br.name AS brewery_name, b.abv AS beer_abv\n",
    "       ORDER BY beer_abv DESC\n",
    "       LIMIT 1;\n",
    "       \"\"\"\n",
    "\n",
    "result = execute_read(driver, query)\n",
    "\n",
    "pprint(result)"
   ]
  },
  {
   "cell_type": "markdown",
   "metadata": {},
   "source": [
    "#### 8. If I typically enjoy a beer due to its aroma and appearance, which beer style should I try?"
   ]
  },
  {
   "cell_type": "code",
   "execution_count": 39,
   "metadata": {},
   "outputs": [
    {
     "name": "stdout",
     "output_type": "stream",
     "text": [
      "[<Record style_name='Russian Imperial Stout' beer_name='Konrads Stout Russian Imperial Stout' max_look='5.0' max_smell='5.0'>]\n"
     ]
    }
   ],
   "source": [
    "# This cell give a reccomendation based on the beer with the best smell and look depending on the reviews\n",
    "query = \"\"\"\n",
    "        MATCH (b:BEERS)-[:REVIEWED]->(r:REVIEWS)\n",
    "        // Making sure that look and smell are valid number to compare(not null and nan)\n",
    "        WHERE r.look IS NOT NULL AND r.look <> 'nan' AND r.smell IS NOT NULL AND r.smell <> 'nan'\n",
    "        WITH b, max(r.look) AS max_look, max(r.smell) AS max_smell\n",
    "        MATCH (b2:BEERS)-[:HAS_STYLE]->(s:STYLE)\n",
    "        // Get the style of the beer with max smell and look\n",
    "        WHERE b2.name = b.name\n",
    "        RETURN s.name AS style_name, b.name AS beer_name, max_look, max_smell\n",
    "        ORDER BY max_look DESC, max_smell DESC\n",
    "        LIMIT 1;\n",
    "       \"\"\"\n",
    "\n",
    "result = execute_read(driver, query)\n",
    "\n",
    "pprint(result)"
   ]
  },
  {
   "cell_type": "code",
   "execution_count": 40,
   "metadata": {},
   "outputs": [
    {
     "name": "stdout",
     "output_type": "stream",
     "text": [
      "[<Record name='New England IPA' AvgSmell=4.413614764761178 AvgLook=4.383595613210877>,\n",
      " <Record name='American Imperial Stout' AvgSmell=4.262885690516247 AvgLook=4.286394107776094>,\n",
      " <Record name='Belgian Gueuze' AvgSmell=4.230876612146052 AvgLook=4.17496417453178>]\n"
     ]
    }
   ],
   "source": [
    "# Calculate the avg of smell and look of the beers and recommend beers that have the best avg in both categories\n",
    "query =\"\"\"\n",
    "        MATCH (s:STYLE)<-[:HAS_STYLE]-(b:BEERS)-[:REVIEWED]->(r:REVIEWS)\n",
    "        // Making sure smell and look have valid types\n",
    "        WHERE r.look IS NOT NULL AND r.look <> 'nan' AND r.smell IS NOT NULL AND r.smell <> 'nan'\n",
    "        // Change smell and look to type float because we need to aggregate by avg and can't do that on strings\n",
    "        WITH s.name as name, toFloat(r.smell) as smell, toFloat(r.look) as look\n",
    "        RETURN name, AVG(smell) as AvgSmell, AVG(look) as AvgLook\n",
    "        ORDER BY AvgSmell DESC, AvgLook DESC\n",
    "        LIMIT 3\n",
    "\"\"\"\n",
    "\n",
    "result = execute_read(driver, query)\n",
    "pprint(result)"
   ]
  },
  {
   "cell_type": "markdown",
   "metadata": {},
   "source": [
    "#### 9. Using Graph Algorithms answer **one** of the following questions:\n",
    "    A. Which two countries are most similiar when it comes to their **top 10** most produced Beer styles?\n",
    "    B. Which beer is the most influential when considering the number of users who reviewed it?\n",
    "    C. Users are connected together by their reviews to beers, taking into consideration the \"overall\" score they review as a weight, how many communities are formed from these relationships? How many users are in the largest community?"
   ]
  },
  {
   "cell_type": "markdown",
   "metadata": {},
   "source": [
    "We chose to answer question B. Which beer is the most influential when considering the number of users who reviewed it?"
   ]
  },
  {
   "cell_type": "code",
   "execution_count": 18,
   "metadata": {},
   "outputs": [
    {
     "name": "stdout",
     "output_type": "stream",
     "text": [
      "[<Record graphName='hw_9b'>]\n"
     ]
    }
   ],
   "source": [
    "try:\n",
    "    query = \"\"\"\n",
    "            CALL gds.graph.drop('hw_9b') YIELD graphName;\n",
    "        \"\"\"\n",
    "\n",
    "    result = execute_read(driver, query)\n",
    "\n",
    "    pprint(result)\n",
    "except Exception as e:\n",
    "    pprint(e)"
   ]
  },
  {
   "cell_type": "code",
   "execution_count": 19,
   "metadata": {},
   "outputs": [
    {
     "name": "stdout",
     "output_type": "stream",
     "text": [
      "[<Record nodeQuery='MATCH (n:BEERS) RETURN id(n) AS id' relationshipQuery='MATCH (b1:BEERS)-[:REVIEWED]-(r:REVIEWS)-[:POSTED]-(u:USER)<-[:POSTED]-(r2:REVIEWS)<-[:REVIEWED]-(b2:BEERS)\\n             WITH r.overall as scores, b1, b2, u\\n             RETURN id(b1) AS source, id(b2) AS target, scores AS weight\\n             limit 10000' graphName='hw_9b' nodeCount=717746 relationshipCount=10000 projectMillis=1418>]\n",
      "\n",
      "\n"
     ]
    }
   ],
   "source": [
    "#We have limit 10000 because if more we dont have the processor to it.\n",
    "#Create the graph here the weight is not something we will consider more the sourcve and target.\n",
    "try: \n",
    "    query_projection = \"\"\"\n",
    "        CALL gds.graph.project.cypher(\n",
    "            'hw_9b',\n",
    "            'MATCH (n:BEERS) RETURN id(n) AS id',\n",
    "            'MATCH (b1:BEERS)-[:REVIEWED]-(r:REVIEWS)-[:POSTED]-(u:USER)<-[:POSTED]-(r2:REVIEWS)<-[:REVIEWED]-(b2:BEERS)\n",
    "             WITH r.overall as scores, b1, b2, u\n",
    "             RETURN id(b1) AS source, id(b2) AS target, scores AS weight\n",
    "             limit 10000\n",
    "             ' \n",
    "        )\n",
    "    \"\"\"\n",
    "  \n",
    "    result = execute_read(driver, query_projection)\n",
    "    \n",
    "    pprint(result)\n",
    "    print('\\n')\n",
    "except Exception as e:\n",
    "  \n",
    "    pprint(e)"
   ]
  },
  {
   "cell_type": "code",
   "execution_count": 20,
   "metadata": {},
   "outputs": [
    {
     "name": "stdout",
     "output_type": "stream",
     "text": [
      "[<Record name='Verboten' score=612.6015453441576>,\n",
      " <Record name='I Hardcore You' score=612.6015453441576>,\n",
      " <Record name='Red Legacy' score=612.6015453441576>,\n",
      " <Record name='Arcadia Bourbon Barrel Aged Cereal Killer Barleywine' score=553.5210258613263>,\n",
      " <Record name='World Burp Beer 2002' score=0.15000000000000002>,\n",
      " <Record name='Icon Sender' score=0.15000000000000002>,\n",
      " <Record name='Scottish Right' score=0.15000000000000002>]\n"
     ]
    }
   ],
   "source": [
    "#Using pagerank to check on how it influences.\n",
    "try:\n",
    "    query = \"\"\"\n",
    "        CALL gds.pageRank.stream('hw_9b')\n",
    "            \n",
    "            YIELD nodeId, score\n",
    "            \n",
    "            RETURN gds.util.asNode(nodeId).name AS name, score\n",
    "            \n",
    "            ORDER BY score desc\n",
    "            LIMIT 7\n",
    "        \"\"\"\n",
    "    result = execute_read(driver, query)\n",
    "    pprint(result)\n",
    "except Exception as e:\n",
    "    pprint(e)"
   ]
  },
  {
   "cell_type": "markdown",
   "metadata": {},
   "source": [
    "#### 10. Using Graph Algorithms answer **one** of the following questions:\n",
    "    A. Which beer has the most similar reviews as the beer `Super Bock Stout`?\n",
    "    B. Which user is the most influential when it comes to reviews made?"
   ]
  },
  {
   "cell_type": "markdown",
   "metadata": {},
   "source": [
    "We chose to answer question A. Which beer has the most similar reviews as the beer `Super Bock Stout`?"
   ]
  },
  {
   "cell_type": "code",
   "execution_count": 21,
   "metadata": {},
   "outputs": [
    {
     "name": "stdout",
     "output_type": "stream",
     "text": [
      "'Graph did not exist. Creating a new one'\n"
     ]
    }
   ],
   "source": [
    "try:\n",
    "    query = \"\"\"\n",
    "            CALL gds.graph.drop('hw_10a') YIELD graphName;\n",
    "        \"\"\"\n",
    "    \n",
    "    result = execute_read(driver, query)\n",
    "except Exception as e:\n",
    "   \n",
    "    pprint('Graph did not exist. Creating a new one')"
   ]
  },
  {
   "cell_type": "code",
   "execution_count": 22,
   "metadata": {
    "scrolled": true
   },
   "outputs": [
    {
     "name": "stdout",
     "output_type": "stream",
     "text": [
      "[<Record nodeQuery='MATCH (b:BEERS) RETURN id(b) AS id' relationshipQuery='MATCH (targetBeer:BEERS {name: \"Super Bock Stout\"})-[:REVIEWED]->(:REVIEWS)-[:POSTED]->(reviewers:USER)<-[:POSTED]-(:REVIEWS)<-[:REVIEWED]-(b1:BEERS)\\n   WHERE b1.name <> \"Super Bock Stout\"\\n   WITH b1, targetBeer\\n   RETURN id(targetBeer) AS target, id(b1) AS source' graphName='hw_10a' nodeCount=717746 relationshipCount=91086 projectMillis=31232>]\n",
      "\n",
      "\n"
     ]
    }
   ],
   "source": [
    "# We create first the graph here for which then we use the similarity to get the most similarity\n",
    "try:\n",
    "    query_projection = \"\"\"\n",
    " CALL gds.graph.project.cypher(\n",
    "  'hw_10a',\n",
    "  'MATCH (b:BEERS) RETURN id(b) AS id',\n",
    "  'MATCH (targetBeer:BEERS {name: \"Super Bock Stout\"})-[:REVIEWED]->(:REVIEWS)-[:POSTED]->(reviewers:USER)<-[:POSTED]-(:REVIEWS)<-[:REVIEWED]-(b1:BEERS)\n",
    "   WHERE b1.name <> \"Super Bock Stout\"\n",
    "   WITH b1, targetBeer\n",
    "   RETURN id(targetBeer) AS target, id(b1) AS source'\n",
    ")\n",
    "    \"\"\"\n",
    "\n",
    "   \n",
    "    result = execute_read(driver, query_projection)\n",
    "   \n",
    "    pprint(result)\n",
    "    print('\\n')\n",
    "except Exception as e:\n",
    "   \n",
    "    pprint(e)"
   ]
  },
  {
   "cell_type": "code",
   "execution_count": 23,
   "metadata": {},
   "outputs": [
    {
     "name": "stdout",
     "output_type": "stream",
     "text": [
      "[<Record beer1='Konrads Stout Russian Imperial Stout' beer2='Lomond Gold' similarity=1.0>,\n",
      " <Record beer1='Konrads Stout Russian Imperial Stout' beer2='La Blanche De Drummond' similarity=1.0>,\n",
      " <Record beer1='Konrads Stout Russian Imperial Stout' beer2='Vibin’' similarity=1.0>,\n",
      " <Record beer1='Konrads Stout Russian Imperial Stout' beer2='Magic #411 - Wild Strawberry/Rhubarb/Vanilla Smoothie IPA' similarity=1.0>,\n",
      " <Record beer1='Konrads Stout Russian Imperial Stout' beer2='Three Flowers' similarity=1.0>,\n",
      " <Record beer1='Konrads Stout Russian Imperial Stout' beer2='Marina The Grim North Black IPA' similarity=1.0>,\n",
      " <Record beer1='Konrads Stout Russian Imperial Stout' beer2='Redhook Double Black Stout' similarity=1.0>,\n",
      " <Record beer1='Konrads Stout Russian Imperial Stout' beer2='Fortuna' similarity=1.0>,\n",
      " <Record beer1='Konrads Stout Russian Imperial Stout' beer2='Rock Ice' similarity=1.0>,\n",
      " <Record beer1='Konrads Stout Russian Imperial Stout' beer2=\"Leinenkugel's Ginger Shandy\" similarity=1.0>]\n"
     ]
    }
   ],
   "source": [
    "try:\n",
    "    query = \"\"\"\n",
    "   CALL gds.nodeSimilarity.stream('hw_10a'  )\n",
    "   \n",
    "            YIELD node1, node2, similarity\n",
    "            WITH gds.util.asNode(node1).name AS beer1, \n",
    "            \n",
    "            gds.util.asNode(node2).name AS beer2, similarity\n",
    "            \n",
    "            RETURN beer1, beer2, similarity\n",
    "            \n",
    "            ORDER BY similarity ASCENDING\n",
    "            LIMIT 10\n",
    "    \n",
    "    \"\"\"\n",
    "    result = execute_read(driver, query)\n",
    "    pprint(result)\n",
    "except Exception as e:\n",
    "    pprint(e)"
   ]
  },
  {
   "cell_type": "markdown",
   "metadata": {},
   "source": [
    "---------------------------------------------------------------------------------------------------------------------------"
   ]
  },
  {
   "cell_type": "code",
   "execution_count": 24,
   "metadata": {},
   "outputs": [
    {
     "name": "stdout",
     "output_type": "stream",
     "text": [
      "'Graph did not exist. Creating a new one'\n"
     ]
    }
   ],
   "source": [
    "#This was an idea  that we where getting of trying another aproach with page rank but due to the heap space taking a lot of the\n",
    "#computer processor we decided on the answer before.\n",
    "try:\n",
    "    query = \"\"\"\n",
    "            CALL gds.graph.drop('beer_similarity_graph') YIELD graphName;\n",
    "        \"\"\"\n",
    "    \n",
    "    result = execute_read(driver, query)\n",
    "except Exception as e:\n",
    "   \n",
    "    pprint('Graph did not exist. Creating a new one')"
   ]
  },
  {
   "cell_type": "code",
   "execution_count": 25,
   "metadata": {},
   "outputs": [
    {
     "name": "stdout",
     "output_type": "stream",
     "text": [
      "ClientError('Failed to invoke procedure `gds.graph.project.cypher`: Caused by: java.lang.OutOfMemoryError: Java heap space: failed reallocation of scalar replaced objects')\n"
     ]
    }
   ],
   "source": [
    "try:\n",
    "    query_projection = \"\"\"\n",
    " CALL gds.graph.project.cypher(\n",
    "  'beer_similarity_graph',\n",
    "  'MATCH (b:BEERS) RETURN id(b) AS id',\n",
    "  'MATCH (b1:BEERS)-[:REVIEWED]->(:REVIEWS)-[:POSTED]->(reviewers:USER)<-[:POSTED]-(:REVIEWS)<-[:REVIEWED]-(b2:BEERS)\n",
    "   WHERE b1.name <> \"Super Bock Stout\" AND b2.name <> \"Super Bock Stout\"\n",
    "   WITH b1, b2, count(DISTINCT reviewers) AS similarityCount\n",
    "   WHERE rand() < 0.01\n",
    "   RETURN id(b1) AS source, id(b2) AS target, similarityCount AS similarity\n",
    "'\n",
    ")\n",
    "    \"\"\"\n",
    "\n",
    "   \n",
    "    result = execute_read(driver, query_projection)\n",
    "   \n",
    "    pprint(result)\n",
    "    print('\\n')\n",
    "except Exception as e:\n",
    "   \n",
    "    pprint(e)"
   ]
  },
  {
   "cell_type": "code",
   "execution_count": 26,
   "metadata": {},
   "outputs": [
    {
     "name": "stdout",
     "output_type": "stream",
     "text": [
      "ClientError('Failed to invoke procedure `gds.pageRank.stream`: Caused by: java.util.NoSuchElementException: Graph with name `beer_similarity_graph` does not exist on database `neo4j`. It might exist on another database.')\n"
     ]
    }
   ],
   "source": [
    "try:\n",
    "    query = \"\"\"\n",
    "       CALL gds.pageRank.stream('beer_similarity_graph')\n",
    "            YIELD nodeId, score\n",
    "            WITH gds.util.asNode(nodeId) AS beer, score\n",
    "            WHERE beer.name <> \"Super Bock Stout\"\n",
    "            RETURN beer.name AS similarBeer, score\n",
    "            ORDER BY score DESC\n",
    "            LIMIT 5\n",
    "    \n",
    "    \"\"\"\n",
    "    result = execute_read(driver, query)\n",
    "    pprint(result)\n",
    "except Exception as e:\n",
    "    pprint(e)"
   ]
  },
  {
   "cell_type": "markdown",
   "metadata": {},
   "source": [
    "#### 11. If you had to pick 3 beers to recommend using only this database, which would you pick and why?"
   ]
  },
  {
   "cell_type": "code",
   "execution_count": 27,
   "metadata": {},
   "outputs": [
    {
     "name": "stdout",
     "output_type": "stream",
     "text": [
      "[<Record BeerName='Breakfast Stout' AverageScore=4.473797707349983 ReviewCount=7415>,\n",
      " <Record BeerName='KBS (Kentucky Breakfast Stout)' AverageScore=4.560450156205614 ReviewCount=7042>,\n",
      " <Record BeerName='Pliny The Elder' AverageScore=4.603536550129994 ReviewCount=6922>]\n"
     ]
    }
   ],
   "source": [
    "try:\n",
    "    query = \"\"\"\n",
    "    MATCH (b:BEERS)-[:REVIEWED]->(r:REVIEWS)\n",
    "    WHERE r.overall IS NOT NULL AND r.overall <> 'nan' AND r.score IS NOT NULL AND r.score <> 'nan'\n",
    "    WITH b, AVG(toFloat(r.score)) AS avgScore, count(r) AS reviewCount\n",
    "    ORDER BY reviewCount DESC\n",
    "    LIMIT 3\n",
    "    RETURN b.name AS BeerName, avgScore AS AverageScore, reviewCount AS ReviewCount;\n",
    "    \"\"\"\n",
    "    result = execute_read(driver, query)\n",
    "    pprint(result)\n",
    "except Exception as e:\n",
    "    pprint(e)"
   ]
  },
  {
   "cell_type": "code",
   "execution_count": null,
   "metadata": {},
   "outputs": [],
   "source": [
    "#We decided that the best beers are the ones that have the best score, but also the most review count as the\n",
    "#more the review count the more likely and accurate is the score. "
   ]
  }
 ],
 "metadata": {
  "hide_input": false,
  "kernelspec": {
   "display_name": "Python 3 (ipykernel)",
   "language": "python",
   "name": "python3"
  },
  "language_info": {
   "codemirror_mode": {
    "name": "ipython",
    "version": 3
   },
   "file_extension": ".py",
   "mimetype": "text/x-python",
   "name": "python",
   "nbconvert_exporter": "python",
   "pygments_lexer": "ipython3",
   "version": "3.10.13"
  },
  "toc": {
   "base_numbering": 1,
   "nav_menu": {},
   "number_sections": true,
   "sideBar": true,
   "skip_h1_title": false,
   "title_cell": "Table of Contents",
   "title_sidebar": "Contents",
   "toc_cell": false,
   "toc_position": {},
   "toc_section_display": true,
   "toc_window_display": false
  },
  "varInspector": {
   "cols": {
    "lenName": 16,
    "lenType": 16,
    "lenVar": 40
   },
   "kernels_config": {
    "python": {
     "delete_cmd_postfix": "",
     "delete_cmd_prefix": "del ",
     "library": "var_list.py",
     "varRefreshCmd": "print(var_dic_list())"
    },
    "r": {
     "delete_cmd_postfix": ") ",
     "delete_cmd_prefix": "rm(",
     "library": "var_list.r",
     "varRefreshCmd": "cat(var_dic_list()) "
    }
   },
   "types_to_exclude": [
    "module",
    "function",
    "builtin_function_or_method",
    "instance",
    "_Feature"
   ],
   "window_display": false
  }
 },
 "nbformat": 4,
 "nbformat_minor": 4
}
